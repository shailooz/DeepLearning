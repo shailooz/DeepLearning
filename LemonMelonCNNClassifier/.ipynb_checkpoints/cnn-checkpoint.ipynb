{
 "cells": [
  {
   "cell_type": "code",
   "execution_count": null,
   "metadata": {},
   "outputs": [],
   "source": [
    "import os\n",
    "from PIL import Image\n",
    "import numpy as np\n",
    "import os\n",
    " \n",
    "\n",
    "X = []\n",
    "y = []\n",
    "\n",
    "base_path='E:/Work/CNN/data/'\n",
    "source_path=base_path\n",
    "for child in os.listdir(source_path):\n",
    "    sub_path = os.path.join(source_path, child)\n",
    "    if os.path.isdir(sub_path):\n",
    "        for data_file in os.listdir(sub_path):\n",
    "            X_i = Image.open(os.path.join(sub_path, data_file)).convert('L')\n",
    "            X_i = np.array(X_i.resize((120,120))) / 255.0\n",
    "            X.append(X_i)\n",
    "            y.append(child)\n",
    "print(X)\n",
    "print(y)"
   ]
  },
  {
   "cell_type": "code",
   "execution_count": null,
   "metadata": {},
   "outputs": [],
   "source": [
    "from sklearn.preprocessing import LabelBinarizer\n",
    "labelBinarizer = LabelBinarizer()\n",
    "y = labelBinarizer.fit_transform(y)\n",
    "\n",
    "        "
   ]
  },
  {
   "cell_type": "code",
   "execution_count": null,
   "metadata": {},
   "outputs": [],
   "source": [
    "from sklearn.model_selection import train_test_split\n",
    "X_train, X_test, y_train, y_test = train_test_split(np.array(X), np.array(y), \n",
    "                                                    test_size=0.2, random_state=42)\n",
    "X_train=X_train.reshape([-1,120,120,1])\n",
    "X_test=X_test.reshape([-1,120,120,1])\n",
    "\n",
    "\n",
    "import tensorflow as tf\n",
    "\n",
    "from tensorflow.python.keras import layers\n",
    "from tensorflow.python.keras import models\n",
    "\n",
    "import random\n",
    "\n",
    "random.seed(42)\n",
    "np.random.seed(42)\n",
    "tf.set_random_seed(42)\n",
    "\n",
    "cnnModel = models.Sequential()\n",
    "\n",
    "cnnModel.add(layers.Conv2D(10, (3,3), activation=\"relu\", \n",
    "                           input_shape=(120,120,1)))\n",
    "\n",
    "cnnModel.add(layers.MaxPooling2D((2,2)))\n",
    "\n",
    "cnnModel.add(layers.Conv2D(64, (3,3), activation=\"relu\"))\n",
    "\n",
    "cnnModel.add(layers.MaxPooling2D((2,2)))\n",
    "\n",
    "cnnModel.add(layers.Conv2D(64, (3,3), activation=\"relu\"))\n",
    "\n",
    "cnnModel.add(layers.Flatten())\n",
    "\n",
    "cnnModel.add(layers.Dense(64, activation=\"relu\"))\n",
    "\n",
    "cnnModel.add(layers.Dense(32, activation=\"relu\"))\n",
    "\n",
    "cnnModel.add(layers.Dense(5, activation=\"softmax\"))\n",
    "\n",
    "cnnModel.summary()\n",
    "\n",
    "\n",
    "cnnModel.compile(optimizer=\"adam\", \n",
    "                loss=\"categorical_crossentropy\",\n",
    "                metrics=[\"accuracy\"])\n",
    "\n",
    "tbCallBack = tf.keras.callbacks.TensorBoard(\n",
    "             log_dir='./Graph', histogram_freq=0, \n",
    "             write_graph=True, write_images=True)\n",
    "\n",
    "cnnModel.fit(X_train, y_train, epochs=10, batch_size=32, callbacks=[tbCallBack])\n",
    "\n",
    "testLoss, testAccuracy = cnnModel.evaluate(X_test, y_test)\n",
    "\n",
    "print(testAccuracy)\n",
    "cnnModel.save_weights('./checkpoints/my_checkpoint')\n"
   ]
  },
  {
   "cell_type": "code",
   "execution_count": null,
   "metadata": {},
   "outputs": [],
   "source": [
    "Qry = Image.open('C:/Users/shail/Desktop/JFUYG.png').convert('L')\n",
    "Qry = np.array(Qry.resize((120,120))) / 255.0\n",
    "Qry = Qry.reshape([-1,120,120,1])\n",
    "print(cnnModel.predict_classes([Qry]))"
   ]
  },
  {
   "cell_type": "code",
   "execution_count": null,
   "metadata": {},
   "outputs": [],
   "source": []
  },
  {
   "cell_type": "code",
   "execution_count": null,
   "metadata": {},
   "outputs": [],
   "source": []
  }
 ],
 "metadata": {
  "kernelspec": {
   "display_name": "Python 3",
   "language": "python",
   "name": "python3"
  },
  "language_info": {
   "codemirror_mode": {
    "name": "ipython",
    "version": 3
   },
   "file_extension": ".py",
   "mimetype": "text/x-python",
   "name": "python",
   "nbconvert_exporter": "python",
   "pygments_lexer": "ipython3",
   "version": "3.7.3"
  }
 },
 "nbformat": 4,
 "nbformat_minor": 2
}
